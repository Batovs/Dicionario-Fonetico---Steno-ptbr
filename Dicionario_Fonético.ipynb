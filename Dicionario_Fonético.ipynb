{
  "nbformat": 4,
  "nbformat_minor": 0,
  "metadata": {
    "colab": {
      "name": "Dicionario Fonético",
      "provenance": [],
      "authorship_tag": "ABX9TyPjDQrlqmdQi152U0YPN2S2",
      "include_colab_link": true
    },
    "kernelspec": {
      "name": "python3",
      "display_name": "Python 3"
    },
    "language_info": {
      "name": "python"
    }
  },
  "cells": [
    {
      "cell_type": "markdown",
      "metadata": {
        "id": "view-in-github",
        "colab_type": "text"
      },
      "source": [
        "<a href=\"https://colab.research.google.com/github/Batovs/Dicionario-Fonetico---Steno-ptbr/blob/main/Dicionario_Fon%C3%A9tico.ipynb\" target=\"_parent\"><img src=\"https://colab.research.google.com/assets/colab-badge.svg\" alt=\"Open In Colab\"/></a>"
      ]
    },
    {
      "cell_type": "code",
      "metadata": {
        "id": "fn8mNBgRuIuK"
      },
      "source": [
        "import pandas as pd\n",
        "import numpy as np"
      ],
      "execution_count": 1,
      "outputs": []
    },
    {
      "cell_type": "code",
      "metadata": {
        "id": "sNsEZPEYzK1v"
      },
      "source": [
        "#Número de palavras por letra inicial\n",
        "n_palavra = {\n",
        "             'a':7283, 'b':2569, 'c':7071, 'd':5466, 'e':4608,'f':2441,'g':1590, \n",
        "             'h':955, 'i':3686, 'j':423, 'k':56, 'l':1628, 'm':3814, 'n':1125,\n",
        "             'o':1084, 'p':5445, 'q':420, 'r':4084, 's':4244, 't':2891, 'u':458,\n",
        "             'v':1532, 'w':20, 'x':77, 'y':8, 'z':138\n",
        "             }"
      ],
      "execution_count": 2,
      "outputs": []
    },
    {
      "cell_type": "code",
      "metadata": {
        "colab": {
          "base_uri": "https://localhost:8080/"
        },
        "id": "7lJH1e5CzkKX",
        "outputId": "c44962f9-58bc-4c96-f3a2-282be42742b9"
      },
      "source": [
        "#link por parte\n",
        "link_p1 = 'http://www.portaldalinguaportuguesa.org/index.php?action=fonetica&region=spx&act=list&letter='\n",
        "link_p2 = '&start='\n",
        "print(link_p1+'m'+link_p2+'240')"
      ],
      "execution_count": 3,
      "outputs": [
        {
          "output_type": "stream",
          "name": "stdout",
          "text": [
            "http://www.portaldalinguaportuguesa.org/index.php?action=fonetica&region=spx&act=list&letter=m&start=240\n"
          ]
        }
      ]
    },
    {
      "cell_type": "code",
      "metadata": {
        "id": "KpWDEqZJ2rL2"
      },
      "source": [
        "#Lista com todas as palavras do dicionário\n",
        "list_link = []\n",
        "for i in n_palavra.items(): \n",
        "  link1 = link_p1+str(i[0])\n",
        "  for j in range((i[1]//20)+1):\n",
        "    link2 = link_p2+str(j*20)\n",
        "    list_link.append(link1+link2)"
      ],
      "execution_count": 4,
      "outputs": []
    },
    {
      "cell_type": "code",
      "metadata": {
        "id": "5R-yOIMzBhaQ"
      },
      "source": [
        "#adicionando todas as palavras em um único dataframe (27 minutos para rodar)\n",
        "tabela = pd.DataFrame(columns=['Palavra', 'Categoria gramatical', 'Fonética'])\n",
        "for i in list_link:\n",
        "  tabela_temp = pd.read_html(i)[8]\n",
        "  tabela = pd.concat([tabela,tabela_temp])"
      ],
      "execution_count": 5,
      "outputs": []
    },
    {
      "cell_type": "code",
      "metadata": {
        "colab": {
          "base_uri": "https://localhost:8080/"
        },
        "id": "dU3dUsSCcPyo",
        "outputId": "b8a4fc2d-5281-4cfb-cf8c-cf4d22fc0bce"
      },
      "source": [
        "tabela.info()"
      ],
      "execution_count": 6,
      "outputs": [
        {
          "output_type": "stream",
          "name": "stdout",
          "text": [
            "<class 'pandas.core.frame.DataFrame'>\n",
            "Int64Index: 63118 entries, 0 to 19\n",
            "Data columns (total 3 columns):\n",
            " #   Column                Non-Null Count  Dtype \n",
            "---  ------                --------------  ----- \n",
            " 0   Palavra               63118 non-null  object\n",
            " 1   Categoria gramatical  63091 non-null  object\n",
            " 2   Fonética              62373 non-null  object\n",
            "dtypes: object(3)\n",
            "memory usage: 1.9+ MB\n"
          ]
        }
      ]
    },
    {
      "cell_type": "code",
      "metadata": {
        "colab": {
          "base_uri": "https://localhost:8080/"
        },
        "id": "-jD0BU-7YkBG",
        "outputId": "25777e94-f25a-4e32-acc6-cf8124a6de76"
      },
      "source": [
        "tabela = tabela.dropna()\n",
        "#Arrumando os indices\n",
        "tabela.reset_index(inplace=True)\n",
        "tabela = tabela.drop('index',axis=1)\n",
        "tabela.info()"
      ],
      "execution_count": 7,
      "outputs": [
        {
          "output_type": "stream",
          "name": "stdout",
          "text": [
            "<class 'pandas.core.frame.DataFrame'>\n",
            "RangeIndex: 62346 entries, 0 to 62345\n",
            "Data columns (total 3 columns):\n",
            " #   Column                Non-Null Count  Dtype \n",
            "---  ------                --------------  ----- \n",
            " 0   Palavra               62346 non-null  object\n",
            " 1   Categoria gramatical  62346 non-null  object\n",
            " 2   Fonética              62346 non-null  object\n",
            "dtypes: object(3)\n",
            "memory usage: 1.4+ MB\n"
          ]
        }
      ]
    },
    {
      "cell_type": "code",
      "metadata": {
        "id": "JYajM3mCrDLe"
      },
      "source": [
        "tabela.to_csv('Dicionario_Fonetico.csv')"
      ],
      "execution_count": 11,
      "outputs": []
    },
    {
      "cell_type": "code",
      "metadata": {
        "colab": {
          "base_uri": "https://localhost:8080/",
          "height": 230
        },
        "id": "VK6CY2-MukuQ",
        "outputId": "ae9fa672-979f-4845-bb56-63cdaa5fbc8f"
      },
      "source": [
        "'''\n",
        "\n",
        "#Transformando fonetica em lista, sem tônica\n",
        "for i in range (len(tabela)):\n",
        "  tabela['Fonética'][i] = tabela['Fonética'][i].replace(\"ˈ\",\"\").split('.')\n",
        "tabela\n",
        "\n",
        "'''"
      ],
      "execution_count": null,
      "outputs": [
        {
          "output_type": "error",
          "ename": "TypeError",
          "evalue": "ignored",
          "traceback": [
            "\u001b[0;31m---------------------------------------------------------------------------\u001b[0m",
            "\u001b[0;31mTypeError\u001b[0m                                 Traceback (most recent call last)",
            "\u001b[0;32m<ipython-input-255-7baeb2645a14>\u001b[0m in \u001b[0;36m<module>\u001b[0;34m()\u001b[0m\n\u001b[1;32m      1\u001b[0m \u001b[0;31m#Transformando fonetica em lista, sem tônica\u001b[0m\u001b[0;34m\u001b[0m\u001b[0;34m\u001b[0m\u001b[0;34m\u001b[0m\u001b[0m\n\u001b[1;32m      2\u001b[0m \u001b[0;32mfor\u001b[0m \u001b[0mi\u001b[0m \u001b[0;32min\u001b[0m \u001b[0mrange\u001b[0m \u001b[0;34m(\u001b[0m\u001b[0mlen\u001b[0m\u001b[0;34m(\u001b[0m\u001b[0mtabela\u001b[0m\u001b[0;34m)\u001b[0m\u001b[0;34m)\u001b[0m\u001b[0;34m:\u001b[0m\u001b[0;34m\u001b[0m\u001b[0;34m\u001b[0m\u001b[0m\n\u001b[0;32m----> 3\u001b[0;31m   \u001b[0mtabela\u001b[0m \u001b[0;34m=\u001b[0m \u001b[0mtabela\u001b[0m\u001b[0;34m[\u001b[0m\u001b[0;34m'Fonética'\u001b[0m\u001b[0;34m]\u001b[0m\u001b[0;34m[\u001b[0m\u001b[0mi\u001b[0m\u001b[0;34m]\u001b[0m\u001b[0;34m.\u001b[0m\u001b[0mreplace\u001b[0m\u001b[0;34m(\u001b[0m\u001b[0;34m\"ˈ\"\u001b[0m\u001b[0;34m,\u001b[0m\u001b[0;34m\"\"\u001b[0m\u001b[0;34m)\u001b[0m\u001b[0;34m.\u001b[0m\u001b[0msplit\u001b[0m\u001b[0;34m(\u001b[0m\u001b[0;34m'.'\u001b[0m\u001b[0;34m)\u001b[0m\u001b[0;34m\u001b[0m\u001b[0;34m\u001b[0m\u001b[0m\n\u001b[0m\u001b[1;32m      4\u001b[0m \u001b[0mtabela\u001b[0m\u001b[0;34m\u001b[0m\u001b[0;34m\u001b[0m\u001b[0m\n",
            "\u001b[0;31mTypeError\u001b[0m: list indices must be integers or slices, not str"
          ]
        }
      ]
    }
  ]
}