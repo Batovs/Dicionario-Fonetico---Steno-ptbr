{
  "nbformat": 4,
  "nbformat_minor": 0,
  "metadata": {
    "colab": {
      "name": "Fonetico para Plover dic",
      "provenance": [],
      "authorship_tag": "ABX9TyMJNf69tG4elEkgZ/BFxUYr",
      "include_colab_link": true
    },
    "kernelspec": {
      "name": "python3",
      "display_name": "Python 3"
    },
    "language_info": {
      "name": "python"
    }
  },
  "cells": [
    {
      "cell_type": "markdown",
      "metadata": {
        "id": "view-in-github",
        "colab_type": "text"
      },
      "source": [
        "<a href=\"https://colab.research.google.com/github/Batovs/Dicionario-Fonetico---Steno-ptbr/blob/main/Fonetico_para_Plover_dic.ipynb\" target=\"_parent\"><img src=\"https://colab.research.google.com/assets/colab-badge.svg\" alt=\"Open In Colab\"/></a>"
      ]
    },
    {
      "cell_type": "code",
      "metadata": {
        "id": "TEwPmf9jtKqu"
      },
      "source": [
        "import pandas as pd\n",
        "import numpy as np\n",
        "import re"
      ],
      "execution_count": 117,
      "outputs": []
    },
    {
      "cell_type": "code",
      "metadata": {
        "colab": {
          "base_uri": "https://localhost:8080/",
          "height": 423
        },
        "id": "6u_TqsGMvgZK",
        "outputId": "113dcd55-2ded-4965-cd79-f6e4df1b20fa"
      },
      "source": [
        "diclink = 'https://raw.githubusercontent.com/Batovs/Dicionario-Fonetico---Steno-ptbr/main/Dicionario_Fonetico.csv'\n",
        "df = pd.read_csv(diclink,index_col=0)\n",
        "df"
      ],
      "execution_count": 118,
      "outputs": [
        {
          "output_type": "execute_result",
          "data": {
            "text/html": [
              "<div>\n",
              "<style scoped>\n",
              "    .dataframe tbody tr th:only-of-type {\n",
              "        vertical-align: middle;\n",
              "    }\n",
              "\n",
              "    .dataframe tbody tr th {\n",
              "        vertical-align: top;\n",
              "    }\n",
              "\n",
              "    .dataframe thead th {\n",
              "        text-align: right;\n",
              "    }\n",
              "</style>\n",
              "<table border=\"1\" class=\"dataframe\">\n",
              "  <thead>\n",
              "    <tr style=\"text-align: right;\">\n",
              "      <th></th>\n",
              "      <th>Palavra</th>\n",
              "      <th>Categoria gramatical</th>\n",
              "      <th>Fonética</th>\n",
              "    </tr>\n",
              "  </thead>\n",
              "  <tbody>\n",
              "    <tr>\n",
              "      <th>0</th>\n",
              "      <td>a</td>\n",
              "      <td>artigo</td>\n",
              "      <td>a</td>\n",
              "    </tr>\n",
              "    <tr>\n",
              "      <th>1</th>\n",
              "      <td>a</td>\n",
              "      <td>preposição</td>\n",
              "      <td>a</td>\n",
              "    </tr>\n",
              "    <tr>\n",
              "      <th>2</th>\n",
              "      <td>á-bê-cê</td>\n",
              "      <td>nome masculino</td>\n",
              "      <td>ˌa.bˌe.sˈe</td>\n",
              "    </tr>\n",
              "    <tr>\n",
              "      <th>3</th>\n",
              "      <td>a-pro·pó·si·to</td>\n",
              "      <td>nome masculino</td>\n",
              "      <td>a.pɾo.pˈɔ.zi.tʊ</td>\n",
              "    </tr>\n",
              "    <tr>\n",
              "      <th>4</th>\n",
              "      <td>à-von·ta·de</td>\n",
              "      <td>nome masculino</td>\n",
              "      <td>ˌa.võ.tˈa.dʒi</td>\n",
              "    </tr>\n",
              "    <tr>\n",
              "      <th>...</th>\n",
              "      <td>...</td>\n",
              "      <td>...</td>\n",
              "      <td>...</td>\n",
              "    </tr>\n",
              "    <tr>\n",
              "      <th>62341</th>\n",
              "      <td>zon·zom</td>\n",
              "      <td>nome masculino</td>\n",
              "      <td>zõ.zˈõ</td>\n",
              "    </tr>\n",
              "    <tr>\n",
              "      <th>62342</th>\n",
              "      <td>zo·o</td>\n",
              "      <td>nome masculino</td>\n",
              "      <td>zˈo.ʊ</td>\n",
              "    </tr>\n",
              "    <tr>\n",
              "      <th>62343</th>\n",
              "      <td>zo·ó·fi·la</td>\n",
              "      <td>nome feminino</td>\n",
              "      <td>zo.ˈɔ.fi.lə</td>\n",
              "    </tr>\n",
              "    <tr>\n",
              "      <th>62344</th>\n",
              "      <td>zo·ó·fi·lo</td>\n",
              "      <td>nome masculino</td>\n",
              "      <td>zo.ˈɔ.fi.lʊ</td>\n",
              "    </tr>\n",
              "    <tr>\n",
              "      <th>62345</th>\n",
              "      <td>zo·ó·fi·lo</td>\n",
              "      <td>adjetivo</td>\n",
              "      <td>zo.ˈɔ.fi.lʊ</td>\n",
              "    </tr>\n",
              "  </tbody>\n",
              "</table>\n",
              "<p>62346 rows × 3 columns</p>\n",
              "</div>"
            ],
            "text/plain": [
              "              Palavra Categoria gramatical         Fonética\n",
              "0                   a               artigo                a\n",
              "1                   a           preposição                a\n",
              "2             á-bê-cê       nome masculino       ˌa.bˌe.sˈe\n",
              "3      a-pro·pó·si·to       nome masculino  a.pɾo.pˈɔ.zi.tʊ\n",
              "4         à-von·ta·de       nome masculino   ˌa.võ.tˈa.dʒi\n",
              "...               ...                  ...              ...\n",
              "62341         zon·zom       nome masculino         zõ.zˈõ\n",
              "62342            zo·o       nome masculino            zˈo.ʊ\n",
              "62343      zo·ó·fi·la        nome feminino      zo.ˈɔ.fi.lə\n",
              "62344      zo·ó·fi·lo       nome masculino      zo.ˈɔ.fi.lʊ\n",
              "62345      zo·ó·fi·lo             adjetivo      zo.ˈɔ.fi.lʊ\n",
              "\n",
              "[62346 rows x 3 columns]"
            ]
          },
          "metadata": {},
          "execution_count": 118
        }
      ]
    },
    {
      "cell_type": "code",
      "metadata": {
        "id": "Qyj7O7e-vs1e"
      },
      "source": [
        "#Tirando fonéticas com duas opções e limpeza inicial\n",
        "df['Fonética'] = df['Fonética'].str.replace('.ou.*','', regex=True)\n",
        "df['Fonética'] = df['Fonética'].str.replace('^ˌ','', regex=True)"
      ],
      "execution_count": 119,
      "outputs": []
    },
    {
      "cell_type": "code",
      "metadata": {
        "id": "kZ3hYCGm0XRn"
      },
      "source": [
        "df = df.drop('Categoria gramatical',axis=1)"
      ],
      "execution_count": 120,
      "outputs": []
    },
    {
      "cell_type": "code",
      "metadata": {
        "colab": {
          "base_uri": "https://localhost:8080/",
          "height": 423
        },
        "id": "sWB3BCxiyeiN",
        "outputId": "3c2fec1d-eb1e-477c-d4c3-b979cdb98366"
      },
      "source": [
        "#Juntando Palavras\n",
        "for i in range (len(df)):\n",
        "  df['Palavra'][i] = df['Palavra'][i].replace(\"·\",\"\")\n",
        "for i in range (len(df)):\n",
        "  df['Palavra'][i] = df['Palavra'][i].replace(\"-\",\"\")\n",
        "df"
      ],
      "execution_count": 121,
      "outputs": [
        {
          "output_type": "execute_result",
          "data": {
            "text/html": [
              "<div>\n",
              "<style scoped>\n",
              "    .dataframe tbody tr th:only-of-type {\n",
              "        vertical-align: middle;\n",
              "    }\n",
              "\n",
              "    .dataframe tbody tr th {\n",
              "        vertical-align: top;\n",
              "    }\n",
              "\n",
              "    .dataframe thead th {\n",
              "        text-align: right;\n",
              "    }\n",
              "</style>\n",
              "<table border=\"1\" class=\"dataframe\">\n",
              "  <thead>\n",
              "    <tr style=\"text-align: right;\">\n",
              "      <th></th>\n",
              "      <th>Palavra</th>\n",
              "      <th>Fonética</th>\n",
              "    </tr>\n",
              "  </thead>\n",
              "  <tbody>\n",
              "    <tr>\n",
              "      <th>0</th>\n",
              "      <td>a</td>\n",
              "      <td>a</td>\n",
              "    </tr>\n",
              "    <tr>\n",
              "      <th>1</th>\n",
              "      <td>a</td>\n",
              "      <td>a</td>\n",
              "    </tr>\n",
              "    <tr>\n",
              "      <th>2</th>\n",
              "      <td>ábêcê</td>\n",
              "      <td>a.bˌe.sˈe</td>\n",
              "    </tr>\n",
              "    <tr>\n",
              "      <th>3</th>\n",
              "      <td>apropósito</td>\n",
              "      <td>a.pɾo.pˈɔ.zi.tʊ</td>\n",
              "    </tr>\n",
              "    <tr>\n",
              "      <th>4</th>\n",
              "      <td>àvontade</td>\n",
              "      <td>a.võ.tˈa.dʒi</td>\n",
              "    </tr>\n",
              "    <tr>\n",
              "      <th>...</th>\n",
              "      <td>...</td>\n",
              "      <td>...</td>\n",
              "    </tr>\n",
              "    <tr>\n",
              "      <th>62341</th>\n",
              "      <td>zonzom</td>\n",
              "      <td>zõ.zˈõ</td>\n",
              "    </tr>\n",
              "    <tr>\n",
              "      <th>62342</th>\n",
              "      <td>zoo</td>\n",
              "      <td>zˈo.ʊ</td>\n",
              "    </tr>\n",
              "    <tr>\n",
              "      <th>62343</th>\n",
              "      <td>zoófila</td>\n",
              "      <td>zo.ˈɔ.fi.lə</td>\n",
              "    </tr>\n",
              "    <tr>\n",
              "      <th>62344</th>\n",
              "      <td>zoófilo</td>\n",
              "      <td>zo.ˈɔ.fi.lʊ</td>\n",
              "    </tr>\n",
              "    <tr>\n",
              "      <th>62345</th>\n",
              "      <td>zoófilo</td>\n",
              "      <td>zo.ˈɔ.fi.lʊ</td>\n",
              "    </tr>\n",
              "  </tbody>\n",
              "</table>\n",
              "<p>62346 rows × 2 columns</p>\n",
              "</div>"
            ],
            "text/plain": [
              "          Palavra         Fonética\n",
              "0               a                a\n",
              "1               a                a\n",
              "2           ábêcê        a.bˌe.sˈe\n",
              "3      apropósito  a.pɾo.pˈɔ.zi.tʊ\n",
              "4        àvontade    a.võ.tˈa.dʒi\n",
              "...           ...              ...\n",
              "62341      zonzom         zõ.zˈõ\n",
              "62342         zoo            zˈo.ʊ\n",
              "62343     zoófila      zo.ˈɔ.fi.lə\n",
              "62344     zoófilo      zo.ˈɔ.fi.lʊ\n",
              "62345     zoófilo      zo.ˈɔ.fi.lʊ\n",
              "\n",
              "[62346 rows x 2 columns]"
            ]
          },
          "metadata": {},
          "execution_count": 121
        }
      ]
    },
    {
      "cell_type": "code",
      "metadata": {
        "id": "q7zkhDnx0X1s"
      },
      "source": [
        "df = df.drop_duplicates()\n",
        "df.reset_index(inplace=True)\n",
        "df = df.drop('index',axis=1)"
      ],
      "execution_count": 122,
      "outputs": []
    },
    {
      "cell_type": "code",
      "metadata": {
        "colab": {
          "base_uri": "https://localhost:8080/",
          "height": 423
        },
        "id": "VK6CY2-MukuQ",
        "outputId": "7dbdb66f-c736-43d6-ef76-9c683696c1da"
      },
      "source": [
        "#Transformando fonetica em lista, sem tônica\n",
        "for i in range (len(df)):\n",
        "  df['Fonética'][i] = df['Fonética'][i].replace(\"ˈ\",\"\").split('.')\n",
        "df"
      ],
      "execution_count": 123,
      "outputs": [
        {
          "output_type": "execute_result",
          "data": {
            "text/html": [
              "<div>\n",
              "<style scoped>\n",
              "    .dataframe tbody tr th:only-of-type {\n",
              "        vertical-align: middle;\n",
              "    }\n",
              "\n",
              "    .dataframe tbody tr th {\n",
              "        vertical-align: top;\n",
              "    }\n",
              "\n",
              "    .dataframe thead th {\n",
              "        text-align: right;\n",
              "    }\n",
              "</style>\n",
              "<table border=\"1\" class=\"dataframe\">\n",
              "  <thead>\n",
              "    <tr style=\"text-align: right;\">\n",
              "      <th></th>\n",
              "      <th>Palavra</th>\n",
              "      <th>Fonética</th>\n",
              "    </tr>\n",
              "  </thead>\n",
              "  <tbody>\n",
              "    <tr>\n",
              "      <th>0</th>\n",
              "      <td>a</td>\n",
              "      <td>[a]</td>\n",
              "    </tr>\n",
              "    <tr>\n",
              "      <th>1</th>\n",
              "      <td>ábêcê</td>\n",
              "      <td>[a, bˌe, se]</td>\n",
              "    </tr>\n",
              "    <tr>\n",
              "      <th>2</th>\n",
              "      <td>apropósito</td>\n",
              "      <td>[a, pɾo, pɔ, zi, tʊ]</td>\n",
              "    </tr>\n",
              "    <tr>\n",
              "      <th>3</th>\n",
              "      <td>àvontade</td>\n",
              "      <td>[a, võ, ta, dʒi]</td>\n",
              "    </tr>\n",
              "    <tr>\n",
              "      <th>4</th>\n",
              "      <td>aa</td>\n",
              "      <td>[a, a]</td>\n",
              "    </tr>\n",
              "    <tr>\n",
              "      <th>...</th>\n",
              "      <td>...</td>\n",
              "      <td>...</td>\n",
              "    </tr>\n",
              "    <tr>\n",
              "      <th>53554</th>\n",
              "      <td>zonzo</td>\n",
              "      <td>[zõ, zʊ]</td>\n",
              "    </tr>\n",
              "    <tr>\n",
              "      <th>53555</th>\n",
              "      <td>zonzom</td>\n",
              "      <td>[zõ, zõ]</td>\n",
              "    </tr>\n",
              "    <tr>\n",
              "      <th>53556</th>\n",
              "      <td>zoo</td>\n",
              "      <td>[zo, ʊ]</td>\n",
              "    </tr>\n",
              "    <tr>\n",
              "      <th>53557</th>\n",
              "      <td>zoófila</td>\n",
              "      <td>[zo, ɔ, fi, lə]</td>\n",
              "    </tr>\n",
              "    <tr>\n",
              "      <th>53558</th>\n",
              "      <td>zoófilo</td>\n",
              "      <td>[zo, ɔ, fi, lʊ]</td>\n",
              "    </tr>\n",
              "  </tbody>\n",
              "</table>\n",
              "<p>53559 rows × 2 columns</p>\n",
              "</div>"
            ],
            "text/plain": [
              "          Palavra              Fonética\n",
              "0               a                   [a]\n",
              "1           ábêcê          [a, bˌe, se]\n",
              "2      apropósito  [a, pɾo, pɔ, zi, tʊ]\n",
              "3        àvontade     [a, võ, ta, dʒi]\n",
              "4              aa                [a, a]\n",
              "...           ...                   ...\n",
              "53554       zonzo             [zõ, zʊ]\n",
              "53555      zonzom            [zõ, zõ]\n",
              "53556         zoo               [zo, ʊ]\n",
              "53557     zoófila       [zo, ɔ, fi, lə]\n",
              "53558     zoófilo       [zo, ɔ, fi, lʊ]\n",
              "\n",
              "[53559 rows x 2 columns]"
            ]
          },
          "metadata": {},
          "execution_count": 123
        }
      ]
    },
    {
      "cell_type": "code",
      "metadata": {
        "id": "HjVoUgf405pN"
      },
      "source": [
        ""
      ],
      "execution_count": 123,
      "outputs": []
    }
  ]
}